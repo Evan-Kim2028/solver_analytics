{
 "cells": [
  {
   "cell_type": "code",
   "execution_count": 1,
   "metadata": {},
   "outputs": [
    {
     "data": {
      "text/plain": [
       "polars.config.Config"
      ]
     },
     "execution_count": 1,
     "metadata": {},
     "output_type": "execute_result"
    }
   ],
   "source": [
    "import altair as alt\n",
    "import polars as pl\n",
    "\n",
    "alt.data_transformers.enable(\"vegafusion\")\n",
    "pl.Config.set_fmt_str_lengths(200)\n",
    "pl.Config.set_fmt_float(\"full\")"
   ]
  },
  {
   "cell_type": "markdown",
   "metadata": {},
   "source": [
    "Exploratory analysis into across solver actions. Some initial questions are:\n",
    "* Where is across directing the majority of flow to? \n",
    "* Which chains have the highest connectivity?\n",
    "* Which tokens are being transported the most?\n",
    "\n",
    "There is some initial results on token volume and by origin chain [here](https://dune.com/risk_labs/across-protocol-stats) and [here](https://dune.com/sandman2797/across-bridge-stats)"
   ]
  },
  {
   "cell_type": "code",
   "execution_count": 2,
   "metadata": {},
   "outputs": [],
   "source": [
    "network_dict = {\n",
    "    \"name\": [\n",
    "        \"Arbitrum\", \"Arbitrum Nova\", \"Aurora\", \"Avalanche\", \"Base\", \n",
    "        \"Berachain Bartio\", \"Blast\", \"Boba\", \"Bsc\", \"C1 Milkomeda\", \n",
    "        \"Celo\", \"Chiliz\", \"Crab\", \"Cyber\", \"Darwinia\", \"Ethereum Mainnet\", \n",
    "        \"Fantom\", \"Flare\", \"Fuji\", \"Galadrial Devnet\", \"Gnosis\", \n",
    "        \"Lukso\", \"Manta\", \"Mantle\", \"Merlin\", \"Metis\", \"Mev Commit\", \n",
    "        \"Mode\", \"Moonbeam\", \"Neon Evm\", \"Optimism\", \"Polygon\", \n",
    "        \"Polygon zkEVM\", \"Rsk\", \"Saakuru\", \"Scroll\", \"Shimmer Evm\", \n",
    "        \"Taiko\", \"Taiko Jolnr\", \"X Layer\", \"Zeta\", \"Zircuit\", \n",
    "        \"ZKsync\", \"Zora\"\n",
    "    ],\n",
    "    \"id\": [\n",
    "        42161, 42170, 1313161554, 43114, 8453, 80084, 81457, 288, 56, 2001, \n",
    "        42220, 8888, 44, 7560, 46, 1, 250, 14, 43113, 696969, 100, \n",
    "        42, 169, 5000, 4200, 1088, 17864, 34443, 1284, 245022934, 10, 137, \n",
    "        1101, 30, 7225878, 534352, 148, 167000, 1088, 196, 7000, \n",
    "        48900, 324, 7777777\n",
    "    ]\n",
    "}\n",
    "\n"
   ]
  },
  {
   "cell_type": "code",
   "execution_count": 8,
   "metadata": {},
   "outputs": [],
   "source": [
    "network_names_df = pl.from_dict(network_dict).with_columns(pl.col('id').cast(pl.UInt64))\n",
    "across_df = pl.read_parquet('data/across/*.parquet').join(network_names_df, left_on='destinationChainId', right_on='id').join(network_names_df, left_on='chain_id', right_on='id', suffix='_origin')"
   ]
  },
  {
   "cell_type": "code",
   "execution_count": 9,
   "metadata": {},
   "outputs": [
    {
     "data": {
      "text/plain": [
       "(189, 31)"
      ]
     },
     "execution_count": 9,
     "metadata": {},
     "output_type": "execute_result"
    }
   ],
   "source": [
    "across_df.shape"
   ]
  },
  {
   "cell_type": "code",
   "execution_count": 10,
   "metadata": {},
   "outputs": [
    {
     "data": {
      "text/html": [
       "<div><style>\n",
       ".dataframe > thead > tr,\n",
       ".dataframe > tbody > tr {\n",
       "  text-align: right;\n",
       "  white-space: pre-wrap;\n",
       "}\n",
       "</style>\n",
       "<small>shape: (5, 31)</small><table border=\"1\" class=\"dataframe\"><thead><tr><th>destinationChainId</th><th>depositId</th><th>depositor</th><th>inputToken</th><th>outputToken</th><th>inputAmount</th><th>outputAmount</th><th>quoteTimestamp</th><th>fillDeadline</th><th>exclusivityDeadline</th><th>recipient</th><th>exclusiveRelayer</th><th>message</th><th>hash</th><th>block_number</th><th>extra_data</th><th>to</th><th>from</th><th>nonce</th><th>type</th><th>block_hash</th><th>timestamp</th><th>base_fee_per_gas</th><th>gas_used_block</th><th>max_priority_fee_per_gas</th><th>max_fee_per_gas</th><th>effective_gas_price</th><th>gas_used</th><th>chain_id</th><th>name</th><th>name_origin</th></tr><tr><td>u64</td><td>u64</td><td>str</td><td>str</td><td>str</td><td>f64</td><td>f64</td><td>i64</td><td>u64</td><td>i64</td><td>str</td><td>str</td><td>str</td><td>str</td><td>u64</td><td>str</td><td>str</td><td>str</td><td>u64</td><td>u8</td><td>str</td><td>u64</td><td>f64</td><td>u64</td><td>f64</td><td>f64</td><td>f64</td><td>f64</td><td>u64</td><td>str</td><td>str</td></tr></thead><tbody><tr><td>10</td><td>2521067</td><td>&quot;0xa1abf02a05276d9df410e7b60f91ed4056116222&quot;</td><td>&quot;0xaf88d065e77c8cc2239327c5edb3a432268e5831&quot;</td><td>&quot;0x0b2c639c533813f4aa9d7837caf62653d097ff85&quot;</td><td>134003350</td><td>133996804</td><td>1727712642</td><td>1727713226</td><td>1727712926</td><td>&quot;0xa1abf02a05276d9df410e7b60f91ed4056116222&quot;</td><td>&quot;0xd19454648eedd9bee8d75142d503c5ee9179fc70&quot;</td><td>&quot;0x&quot;</td><td>&quot;0x1e971941a7932176f59a0c39adad2483a6e731069117130bf101b4751a587d4e&quot;</td><td>258973702</td><td>&quot;0x6d061aef1ef65018189b588cee34e831319c2fd4239a40a91bb8aae12766d7ec&quot;</td><td>&quot;0x6b1e09905e5643680f926c78125d0c15648153ef&quot;</td><td>&quot;0xd19454648eedd9bee8d75142d503c5ee9179fc70&quot;</td><td>3264</td><td>2</td><td>&quot;0xa070792639ab977bc8202aecf5a59c22872993d040201dc699486e78960078eb&quot;</td><td>1727712642</td><td>10000000</td><td>3376454</td><td>0</td><td>12000000</td><td>10000000</td><td>773695</td><td>42161</td><td>&quot;Optimism&quot;</td><td>&quot;Arbitrum&quot;</td></tr><tr><td>10</td><td>2521068</td><td>&quot;0x1231deb6f5749ef6ce6943a275a1d3e7486f4eae&quot;</td><td>&quot;0xaf88d065e77c8cc2239327c5edb3a432268e5831&quot;</td><td>&quot;0x0000000000000000000000000000000000000000&quot;</td><td>10049500</td><td>10041310</td><td>1727712431</td><td>4294967295</td><td>0</td><td>&quot;0xd11dd37165bc9520bf94fc5e21206ca5df4636e7&quot;</td><td>&quot;0x0000000000000000000000000000000000000000&quot;</td><td>&quot;0x&quot;</td><td>&quot;0xcea0e0b3ffc421965312e0628706e08395a76c265d1974c90317995721b5fe54&quot;</td><td>258973768</td><td>&quot;0x6d061aef1ef65018189b588cee34e831319c2fd4239a40a91bb8aae12766d7ec&quot;</td><td>&quot;0x1231deb6f5749ef6ce6943a275a1d3e7486f4eae&quot;</td><td>&quot;0xd11dd37165bc9520bf94fc5e21206ca5df4636e7&quot;</td><td>409</td><td>2</td><td>&quot;0xc76739398e222e85eab43746687139c59754cb26b3d2c1d35ba48939b43085e0&quot;</td><td>1727712659</td><td>10000000</td><td>3397524</td><td>10000000</td><td>10000000</td><td>10000000</td><td>692994</td><td>42161</td><td>&quot;Optimism&quot;</td><td>&quot;Arbitrum&quot;</td></tr><tr><td>8453</td><td>2521069</td><td>&quot;0x1231deb6f5749ef6ce6943a275a1d3e7486f4eae&quot;</td><td>&quot;0x82af49447d8a07e3bd95bd0d56f35241523fbab1&quot;</td><td>&quot;0x0000000000000000000000000000000000000000&quot;</td><td>32000000000000000</td><td>31988880148010176</td><td>1727712431</td><td>4294967295</td><td>0</td><td>&quot;0x4b224244588f8d0a4d205ff6770a29b45a891ba7&quot;</td><td>&quot;0x0000000000000000000000000000000000000000&quot;</td><td>&quot;0x&quot;</td><td>&quot;0x2b005a4f5671a39c77098dab7114f837814394bdcfef7cbb3561b37257841753&quot;</td><td>258973813</td><td>&quot;0x6d061aef1ef65018189b588cee34e831319c2fd4239a40a91bb8aae12766d7ec&quot;</td><td>&quot;0x1231deb6f5749ef6ce6943a275a1d3e7486f4eae&quot;</td><td>&quot;0x4b224244588f8d0a4d205ff6770a29b45a891ba7&quot;</td><td>95</td><td>2</td><td>&quot;0x70ff75e74ff498ea18368f12b9a0b00800a8ead458d0703e33c3d29c811009ae&quot;</td><td>1727712670</td><td>10000000</td><td>1961172</td><td>0</td><td>13500000</td><td>10000000</td><td>493962</td><td>42161</td><td>&quot;Base&quot;</td><td>&quot;Arbitrum&quot;</td></tr><tr><td>534352</td><td>2521071</td><td>&quot;0x1231deb6f5749ef6ce6943a275a1d3e7486f4eae&quot;</td><td>&quot;0x82af49447d8a07e3bd95bd0d56f35241523fbab1&quot;</td><td>&quot;0x0000000000000000000000000000000000000000&quot;</td><td>15000000000000000</td><td>14931510316242858</td><td>1727712431</td><td>4294967295</td><td>0</td><td>&quot;0x9f86d47cbdf2e4f24c17c398f9ec0690d253a833&quot;</td><td>&quot;0x0000000000000000000000000000000000000000&quot;</td><td>&quot;0x&quot;</td><td>&quot;0x54886b49ecf455fc3569146833444d27abb2c132024de4bd63a03668b179bbfd&quot;</td><td>258973882</td><td>&quot;0x6d061aef1ef65018189b588cee34e831319c2fd4239a40a91bb8aae12766d7ec&quot;</td><td>&quot;0x1231deb6f5749ef6ce6943a275a1d3e7486f4eae&quot;</td><td>&quot;0x9f86d47cbdf2e4f24c17c398f9ec0690d253a833&quot;</td><td>268</td><td>2</td><td>&quot;0xbd8d936444e253749215e05695ce6baf4c251d1b8db66d0f26213a73d8e95fcd&quot;</td><td>1727712687</td><td>10000000</td><td>3130186</td><td>0</td><td>13500000</td><td>10000000</td><td>495887</td><td>42161</td><td>&quot;Scroll&quot;</td><td>&quot;Arbitrum&quot;</td></tr><tr><td>10</td><td>2521072</td><td>&quot;0x1231deb6f5749ef6ce6943a275a1d3e7486f4eae&quot;</td><td>&quot;0x82af49447d8a07e3bd95bd0d56f35241523fbab1&quot;</td><td>&quot;0x0000000000000000000000000000000000000000&quot;</td><td>7000000000000000</td><td>6996333110478354</td><td>1727712431</td><td>4294967295</td><td>0</td><td>&quot;0x907557f7f3e947219de3749ab66e4e90ac786224&quot;</td><td>&quot;0x0000000000000000000000000000000000000000&quot;</td><td>&quot;0x&quot;</td><td>&quot;0x39c4ded582692c93abc5adfa074507198c8b9501db03ff91a6548cc9c35cfa96&quot;</td><td>258974023</td><td>&quot;0x6d061aef1ef65018189b588cee34e831319c2fd4239a40a91bb8aae12766d7ec&quot;</td><td>&quot;0x1231deb6f5749ef6ce6943a275a1d3e7486f4eae&quot;</td><td>&quot;0x907557f7f3e947219de3749ab66e4e90ac786224&quot;</td><td>556</td><td>2</td><td>&quot;0x8a65a8908f25cbdbf8f22a6ad7acec62557b34242455f3ccf3a3cbabfd086299&quot;</td><td>1727712723</td><td>10000000</td><td>856283</td><td>0</td><td>13500000</td><td>10000000</td><td>489212</td><td>42161</td><td>&quot;Optimism&quot;</td><td>&quot;Arbitrum&quot;</td></tr></tbody></table></div>"
      ],
      "text/plain": [
       "shape: (5, 31)\n",
       "┌────────────┬───────────┬────────────┬───────────┬───┬──────────┬──────────┬──────────┬───────────┐\n",
       "│ destinatio ┆ depositId ┆ depositor  ┆ inputToke ┆ … ┆ gas_used ┆ chain_id ┆ name     ┆ name_orig │\n",
       "│ nChainId   ┆ ---       ┆ ---        ┆ n         ┆   ┆ ---      ┆ ---      ┆ ---      ┆ in        │\n",
       "│ ---        ┆ u64       ┆ str        ┆ ---       ┆   ┆ f64      ┆ u64      ┆ str      ┆ ---       │\n",
       "│ u64        ┆           ┆            ┆ str       ┆   ┆          ┆          ┆          ┆ str       │\n",
       "╞════════════╪═══════════╪════════════╪═══════════╪═══╪══════════╪══════════╪══════════╪═══════════╡\n",
       "│ 10         ┆ 2521067   ┆ 0xa1abf02a ┆ 0xaf88d06 ┆ … ┆ 773695   ┆ 42161    ┆ Optimism ┆ Arbitrum  │\n",
       "│            ┆           ┆ 05276d9df4 ┆ 5e77c8cc2 ┆   ┆          ┆          ┆          ┆           │\n",
       "│            ┆           ┆ 10e7b60f91 ┆ 239327c5e ┆   ┆          ┆          ┆          ┆           │\n",
       "│            ┆           ┆ ed40561162 ┆ db3a43226 ┆   ┆          ┆          ┆          ┆           │\n",
       "│            ┆           ┆ 22         ┆ 8e5831    ┆   ┆          ┆          ┆          ┆           │\n",
       "│ 10         ┆ 2521068   ┆ 0x1231deb6 ┆ 0xaf88d06 ┆ … ┆ 692994   ┆ 42161    ┆ Optimism ┆ Arbitrum  │\n",
       "│            ┆           ┆ f5749ef6ce ┆ 5e77c8cc2 ┆   ┆          ┆          ┆          ┆           │\n",
       "│            ┆           ┆ 6943a275a1 ┆ 239327c5e ┆   ┆          ┆          ┆          ┆           │\n",
       "│            ┆           ┆ d3e7486f4e ┆ db3a43226 ┆   ┆          ┆          ┆          ┆           │\n",
       "│            ┆           ┆ ae         ┆ 8e5831    ┆   ┆          ┆          ┆          ┆           │\n",
       "│ 8453       ┆ 2521069   ┆ 0x1231deb6 ┆ 0x82af494 ┆ … ┆ 493962   ┆ 42161    ┆ Base     ┆ Arbitrum  │\n",
       "│            ┆           ┆ f5749ef6ce ┆ 47d8a07e3 ┆   ┆          ┆          ┆          ┆           │\n",
       "│            ┆           ┆ 6943a275a1 ┆ bd95bd0d5 ┆   ┆          ┆          ┆          ┆           │\n",
       "│            ┆           ┆ d3e7486f4e ┆ 6f3524152 ┆   ┆          ┆          ┆          ┆           │\n",
       "│            ┆           ┆ ae         ┆ 3fbab1    ┆   ┆          ┆          ┆          ┆           │\n",
       "│ 534352     ┆ 2521071   ┆ 0x1231deb6 ┆ 0x82af494 ┆ … ┆ 495887   ┆ 42161    ┆ Scroll   ┆ Arbitrum  │\n",
       "│            ┆           ┆ f5749ef6ce ┆ 47d8a07e3 ┆   ┆          ┆          ┆          ┆           │\n",
       "│            ┆           ┆ 6943a275a1 ┆ bd95bd0d5 ┆   ┆          ┆          ┆          ┆           │\n",
       "│            ┆           ┆ d3e7486f4e ┆ 6f3524152 ┆   ┆          ┆          ┆          ┆           │\n",
       "│            ┆           ┆ ae         ┆ 3fbab1    ┆   ┆          ┆          ┆          ┆           │\n",
       "│ 10         ┆ 2521072   ┆ 0x1231deb6 ┆ 0x82af494 ┆ … ┆ 489212   ┆ 42161    ┆ Optimism ┆ Arbitrum  │\n",
       "│            ┆           ┆ f5749ef6ce ┆ 47d8a07e3 ┆   ┆          ┆          ┆          ┆           │\n",
       "│            ┆           ┆ 6943a275a1 ┆ bd95bd0d5 ┆   ┆          ┆          ┆          ┆           │\n",
       "│            ┆           ┆ d3e7486f4e ┆ 6f3524152 ┆   ┆          ┆          ┆          ┆           │\n",
       "│            ┆           ┆ ae         ┆ 3fbab1    ┆   ┆          ┆          ┆          ┆           │\n",
       "└────────────┴───────────┴────────────┴───────────┴───┴──────────┴──────────┴──────────┴───────────┘"
      ]
     },
     "execution_count": 10,
     "metadata": {},
     "output_type": "execute_result"
    }
   ],
   "source": [
    "across_df.head(5)"
   ]
  },
  {
   "cell_type": "code",
   "execution_count": 6,
   "metadata": {},
   "outputs": [
    {
     "data": {
      "text/html": [
       "<div><style>\n",
       ".dataframe > thead > tr,\n",
       ".dataframe > tbody > tr {\n",
       "  text-align: right;\n",
       "  white-space: pre-wrap;\n",
       "}\n",
       "</style>\n",
       "<small>shape: (0, 30)</small><table border=\"1\" class=\"dataframe\"><thead><tr><th>destinationChainId</th><th>depositId</th><th>depositor</th><th>inputToken</th><th>outputToken</th><th>inputAmount</th><th>outputAmount</th><th>quoteTimestamp</th><th>fillDeadline</th><th>exclusivityDeadline</th><th>recipient</th><th>exclusiveRelayer</th><th>message</th><th>hash</th><th>block_number</th><th>extra_data</th><th>to</th><th>from</th><th>nonce</th><th>type</th><th>block_hash</th><th>timestamp</th><th>base_fee_per_gas</th><th>gas_used_block</th><th>max_priority_fee_per_gas</th><th>max_fee_per_gas</th><th>effective_gas_price</th><th>gas_used</th><th>chain_id</th><th>name</th></tr><tr><td>u64</td><td>u64</td><td>str</td><td>str</td><td>str</td><td>f64</td><td>f64</td><td>i64</td><td>u64</td><td>i64</td><td>str</td><td>str</td><td>str</td><td>str</td><td>u64</td><td>str</td><td>str</td><td>str</td><td>u64</td><td>u8</td><td>str</td><td>u64</td><td>f64</td><td>u64</td><td>f64</td><td>f64</td><td>f64</td><td>f64</td><td>u64</td><td>str</td></tr></thead><tbody></tbody></table></div>"
      ],
      "text/plain": [
       "shape: (0, 30)\n",
       "┌──────────────┬───────────┬───────────┬────────────┬───┬─────────────┬──────────┬──────────┬──────┐\n",
       "│ destinationC ┆ depositId ┆ depositor ┆ inputToken ┆ … ┆ effective_g ┆ gas_used ┆ chain_id ┆ name │\n",
       "│ hainId       ┆ ---       ┆ ---       ┆ ---        ┆   ┆ as_price    ┆ ---      ┆ ---      ┆ ---  │\n",
       "│ ---          ┆ u64       ┆ str       ┆ str        ┆   ┆ ---         ┆ f64      ┆ u64      ┆ str  │\n",
       "│ u64          ┆           ┆           ┆            ┆   ┆ f64         ┆          ┆          ┆      │\n",
       "╞══════════════╪═══════════╪═══════════╪════════════╪═══╪═════════════╪══════════╪══════════╪══════╡\n",
       "└──────────────┴───────────┴───────────┴────────────┴───┴─────────────┴──────────┴──────────┴──────┘"
      ]
     },
     "execution_count": 6,
     "metadata": {},
     "output_type": "execute_result"
    }
   ],
   "source": [
    "across_df.filter(pl.col('depositor')== '0x0e9b063789909565ceda1fba162474405a151e66')"
   ]
  },
  {
   "cell_type": "code",
   "execution_count": 7,
   "metadata": {},
   "outputs": [
    {
     "ename": "NameError",
     "evalue": "name 'funds_deposited' is not defined",
     "output_type": "error",
     "traceback": [
      "\u001b[0;31m---------------------------------------------------------------------------\u001b[0m",
      "\u001b[0;31mNameError\u001b[0m                                 Traceback (most recent call last)",
      "Cell \u001b[0;32mIn[7], line 1\u001b[0m\n\u001b[0;32m----> 1\u001b[0m \u001b[38;5;28mprint\u001b[39m(\u001b[43mfunds_deposited\u001b[49m\u001b[38;5;241m.\u001b[39mshape)\n",
      "\u001b[0;31mNameError\u001b[0m: name 'funds_deposited' is not defined"
     ]
    }
   ],
   "source": [
    "print(funds_deposited.shape)"
   ]
  },
  {
   "cell_type": "code",
   "execution_count": 6,
   "metadata": {},
   "outputs": [
    {
     "data": {
      "text/html": [
       "<div><style>\n",
       ".dataframe > thead > tr,\n",
       ".dataframe > tbody > tr {\n",
       "  text-align: right;\n",
       "  white-space: pre-wrap;\n",
       "}\n",
       "</style>\n",
       "<small>shape: (9, 3)</small><table border=\"1\" class=\"dataframe\"><thead><tr><th>destinationChainId</th><th>count</th><th>name</th></tr><tr><td>u64</td><td>u32</td><td>str</td></tr></thead><tbody><tr><td>8453</td><td>9881</td><td>&quot;Base&quot;</td></tr><tr><td>10</td><td>4780</td><td>&quot;Optimism&quot;</td></tr><tr><td>534352</td><td>3314</td><td>&quot;Scroll&quot;</td></tr><tr><td>324</td><td>2868</td><td>&quot;ZKsync&quot;</td></tr><tr><td>1</td><td>1260</td><td>&quot;Ethereum Mainnet&quot;</td></tr><tr><td>137</td><td>1077</td><td>&quot;Polygon&quot;</td></tr><tr><td>81457</td><td>369</td><td>&quot;Blast&quot;</td></tr><tr><td>34443</td><td>322</td><td>&quot;Mode&quot;</td></tr><tr><td>7777777</td><td>17</td><td>&quot;Zora&quot;</td></tr></tbody></table></div>"
      ],
      "text/plain": [
       "shape: (9, 3)\n",
       "┌────────────────────┬───────┬──────────────────┐\n",
       "│ destinationChainId ┆ count ┆ name             │\n",
       "│ ---                ┆ ---   ┆ ---              │\n",
       "│ u64                ┆ u32   ┆ str              │\n",
       "╞════════════════════╪═══════╪══════════════════╡\n",
       "│ 8453               ┆ 9881  ┆ Base             │\n",
       "│ 10                 ┆ 4780  ┆ Optimism         │\n",
       "│ 534352             ┆ 3314  ┆ Scroll           │\n",
       "│ 324                ┆ 2868  ┆ ZKsync           │\n",
       "│ 1                  ┆ 1260  ┆ Ethereum Mainnet │\n",
       "│ 137                ┆ 1077  ┆ Polygon          │\n",
       "│ 81457              ┆ 369   ┆ Blast            │\n",
       "│ 34443              ┆ 322   ┆ Mode             │\n",
       "│ 7777777            ┆ 17    ┆ Zora             │\n",
       "└────────────────────┴───────┴──────────────────┘"
      ]
     },
     "execution_count": 6,
     "metadata": {},
     "output_type": "execute_result"
    }
   ],
   "source": [
    "(\n",
    "    funds_deposited\n",
    "    .group_by('destinationChainId').agg([\n",
    "    pl.len().alias('count')\n",
    "    ])\n",
    "    \n",
    ").sort(by='count', descending=True)"
   ]
  },
  {
   "cell_type": "code",
   "execution_count": null,
   "metadata": {},
   "outputs": [],
   "source": []
  }
 ],
 "metadata": {
  "kernelspec": {
   "display_name": ".venv",
   "language": "python",
   "name": "python3"
  },
  "language_info": {
   "codemirror_mode": {
    "name": "ipython",
    "version": 3
   },
   "file_extension": ".py",
   "mimetype": "text/x-python",
   "name": "python",
   "nbconvert_exporter": "python",
   "pygments_lexer": "ipython3",
   "version": "3.12.5"
  }
 },
 "nbformat": 4,
 "nbformat_minor": 2
}
